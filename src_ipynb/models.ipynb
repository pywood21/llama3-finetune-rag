{
 "cells": [
  {
   "cell_type": "code",
   "execution_count": null,
   "id": "aff823fb",
   "metadata": {},
   "outputs": [],
   "source": [
    "import torch\n",
    "from transformers import AutoModelForCausalLM, AutoTokenizer, BitsAndBytesConfig\n",
    "from peft import PeftModel\n",
    "\n",
    "def prefer_bf16() -> bool:\n",
    "    return torch.cuda.is_available() and torch.cuda.get_device_capability(0)[0] >= 8\n",
    "\n",
    "def load_backbone(model_id: str, load_in_4bit: bool, use_bf16_if_available: bool):\n",
    "    dtype = torch.bfloat16 if (use_bf16_if_available and prefer_bf16()) else torch.float16\n",
    "    bnb_config = None\n",
    "    if load_in_4bit:\n",
    "        bnb_config = BitsAndBytesConfig(\n",
    "            load_in_4bit=True,\n",
    "            bnb_4bit_quant_type=\"nf4\",\n",
    "            bnb_4bit_compute_dtype=dtype,\n",
    "            bnb_4bit_use_double_quant=True,\n",
    "        )\n",
    "    tok = AutoTokenizer.from_pretrained(model_id, use_fast=True)\n",
    "    if tok.pad_token_id is None and tok.eos_token_id is not None:\n",
    "        tok.pad_token = tok.eos_token\n",
    "    model = AutoModelForCausalLM.from_pretrained(\n",
    "        model_id,\n",
    "        torch_dtype=dtype,\n",
    "        quantization_config=bnb_config,\n",
    "        device_map=\"auto\"\n",
    "    )\n",
    "    model.eval()\n",
    "    return model, tok\n",
    "\n",
    "def merge_lora(base_model, lora_adapter_path: str):\n",
    "    ft = PeftModel.from_pretrained(base_model, lora_adapter_path)\n",
    "    try:\n",
    "        ft = ft.merge_and_unload(safe_merge=True)\n",
    "    except TypeError:\n",
    "        ft = ft.merge_and_unload()\n",
    "    ft.eval()\n",
    "    return ft\n"
   ]
  }
 ],
 "metadata": {
  "kernelspec": {
   "display_name": "Python 3 (ipykernel)",
   "language": "python",
   "name": "python3"
  },
  "language_info": {
   "codemirror_mode": {
    "name": "ipython",
    "version": 3
   },
   "file_extension": ".py",
   "mimetype": "text/x-python",
   "name": "python",
   "nbconvert_exporter": "python",
   "pygments_lexer": "ipython3",
   "version": "3.10.15"
  }
 },
 "nbformat": 4,
 "nbformat_minor": 5
}
