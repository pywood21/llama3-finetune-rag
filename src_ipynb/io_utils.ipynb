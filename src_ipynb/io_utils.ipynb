{
 "cells": [
  {
   "cell_type": "code",
   "execution_count": null,
   "id": "4e9082aa",
   "metadata": {},
   "outputs": [],
   "source": [
    "import os, time, datetime, hashlib, json\n",
    "import pandas as pd\n",
    "\n",
    "def ensure_dir(path: str):\n",
    "    d = path if os.path.isdir(path) else os.path.dirname(path)\n",
    "    if d and not os.path.exists(d):\n",
    "        os.makedirs(d, exist_ok=True)\n",
    "\n",
    "def atomic_csv_save(df: pd.DataFrame, final_path: str, retries: int = 5, sleep_sec: float = 1.0):\n",
    "    ensure_dir(final_path)\n",
    "    tmp = final_path + \".tmp\"\n",
    "    last_err = None\n",
    "    for i in range(retries):\n",
    "        try:\n",
    "            df.to_csv(tmp, index=False, encoding=\"utf-8\")\n",
    "            os.replace(tmp, final_path)\n",
    "            return final_path\n",
    "        except PermissionError as e:\n",
    "            last_err = e\n",
    "            if os.path.exists(tmp):\n",
    "                try: os.remove(tmp)\n",
    "                except: pass\n",
    "            time.sleep(sleep_sec * (i + 1))\n",
    "    ts = datetime.datetime.now().strftime(\"%Y%m%d_%H%M%S\")\n",
    "    alt = os.path.join(os.path.dirname(final_path), f\"{os.path.splitext(os.path.basename(final_path))[0]}_{ts}.csv\")\n",
    "    df.to_csv(alt, index=False, encoding=\"utf-8\")\n",
    "    return alt\n",
    "\n",
    "def file_fingerprint(path: str) -> str:\n",
    "    st = os.stat(path)\n",
    "    payload = f\"{path}|{st.st_size}|{int(st.st_mtime)}\"\n",
    "    return hashlib.sha256(payload.encode(\"utf-8\")).hexdigest()[:16]\n",
    "\n",
    "def jsonl_write(records, path: str):\n",
    "    ensure_dir(path)\n",
    "    with open(path, \"w\", encoding=\"utf-8\") as f:\n",
    "        for r in records:\n",
    "            f.write(json.dumps(r, ensure_ascii=False) + \"\\n\")\n"
   ]
  }
 ],
 "metadata": {
  "kernelspec": {
   "display_name": "Python 3 (ipykernel)",
   "language": "python",
   "name": "python3"
  },
  "language_info": {
   "codemirror_mode": {
    "name": "ipython",
    "version": 3
   },
   "file_extension": ".py",
   "mimetype": "text/x-python",
   "name": "python",
   "nbconvert_exporter": "python",
   "pygments_lexer": "ipython3",
   "version": "3.10.15"
  }
 },
 "nbformat": 4,
 "nbformat_minor": 5
}
