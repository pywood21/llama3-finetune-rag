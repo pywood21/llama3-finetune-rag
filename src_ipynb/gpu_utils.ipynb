{
 "cells": [
  {
   "cell_type": "code",
   "execution_count": null,
   "id": "4dbde919",
   "metadata": {},
   "outputs": [],
   "source": [
    "import torch\n",
    "\n",
    "def print_cuda_info():\n",
    "    \"\"\"\n",
    "    Print basic CUDA device information if available.\n",
    "    \"\"\"\n",
    "    print(\"CUDA available:\", torch.cuda.is_available())\n",
    "    if torch.cuda.is_available():\n",
    "        dev_id = torch.cuda.current_device()\n",
    "        print(\"Current device index:\", dev_id)\n",
    "        print(\"Device name:\", torch.cuda.get_device_name(dev_id))\n",
    "        try:\n",
    "            import pynvml\n",
    "            pynvml.nvmlInit()\n",
    "            handle = pynvml.nvmlDeviceGetHandleByIndex(0)\n",
    "            info = pynvml.nvmlDeviceGetMemoryInfo(handle)\n",
    "            print(f\"GPU memory [MB] - total: {info.total // 1024**2}, used: {info.used // 1024**2}, free: {info.free // 1024**2}\")\n",
    "        except Exception:\n",
    "            print(\"Optional: install pynvml for detailed memory info (pip install pynvml).\")\n"
   ]
  }
 ],
 "metadata": {
  "kernelspec": {
   "display_name": "Python 3 (ipykernel)",
   "language": "python",
   "name": "python3"
  },
  "language_info": {
   "codemirror_mode": {
    "name": "ipython",
    "version": 3
   },
   "file_extension": ".py",
   "mimetype": "text/x-python",
   "name": "python",
   "nbconvert_exporter": "python",
   "pygments_lexer": "ipython3",
   "version": "3.10.15"
  }
 },
 "nbformat": 4,
 "nbformat_minor": 5
}
