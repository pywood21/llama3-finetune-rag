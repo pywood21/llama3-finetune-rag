{
 "cells": [
  {
   "cell_type": "code",
   "execution_count": null,
   "id": "9294f522",
   "metadata": {},
   "outputs": [],
   "source": [
    "import torch\n",
    "from peft import LoraConfig, get_peft_model, prepare_model_for_kbit_training\n",
    "\n",
    "def apply_lora(model, lora_cfg) -> torch.nn.Module:\n",
    "    \"\"\"\n",
    "    Prepare a quantized model and apply LoRA adapters.\n",
    "    \"\"\"\n",
    "    model = prepare_model_for_kbit_training(\n",
    "        model,\n",
    "        use_gradient_checkpointing=True,\n",
    "        gradient_checkpointing_kwargs={\"use_reentrant\": False}\n",
    "    )\n",
    "    peft_cfg = LoraConfig(\n",
    "        r=lora_cfg.r,\n",
    "        lora_alpha=lora_cfg.lora_alpha,\n",
    "        lora_dropout=lora_cfg.lora_dropout,\n",
    "        bias=lora_cfg.bias,\n",
    "        task_type=lora_cfg.task_type,\n",
    "    )\n",
    "    model = get_peft_model(model, peft_cfg)\n",
    "    model.gradient_checkpointing_enable()\n",
    "    model.config.use_cache = False\n",
    "    return model\n"
   ]
  }
 ],
 "metadata": {
  "kernelspec": {
   "display_name": "Python 3 (ipykernel)",
   "language": "python",
   "name": "python3"
  },
  "language_info": {
   "codemirror_mode": {
    "name": "ipython",
    "version": 3
   },
   "file_extension": ".py",
   "mimetype": "text/x-python",
   "name": "python",
   "nbconvert_exporter": "python",
   "pygments_lexer": "ipython3",
   "version": "3.10.15"
  }
 },
 "nbformat": 4,
 "nbformat_minor": 5
}
