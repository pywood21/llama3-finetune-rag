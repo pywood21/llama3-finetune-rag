{
 "cells": [
  {
   "cell_type": "code",
   "execution_count": null,
   "id": "3430efac",
   "metadata": {},
   "outputs": [],
   "source": [
    "from dataclasses import dataclass\n",
    "from typing import Optional\n",
    "\n",
    "@dataclass\n",
    "class Paths:\n",
    "    corpus_csv: str = \"<PATH-TO>/dataset_all.csv\"        # must include at least: Title, Abstract, Keywords, Authors, Year, DOI\n",
    "    qa_csv: str      = \"<PATH-TO>/qa_set.csv\"            # must include: Question (Answer optional)\n",
    "    output_dir: str  = \"outputs\"\n",
    "    emb_cache_npy: str = \"outputs/faiss_mpnet_embeds_chunks.npy\"\n",
    "    faiss_index_path: Optional[str] = None\n",
    "\n",
    "@dataclass\n",
    "class Models:\n",
    "    base_model_id: str = \"meta-llama/Meta-Llama-3-8B-Instruct\"\n",
    "    lora_adapter_path: str = \"<PATH-TO>/checkpoint-XXXX\"\n",
    "    retriever_sbert: str = \"sentence-transformers/paraphrase-multilingual-mpnet-base-v2\"\n",
    "    eval_sbert: str = \"sentence-transformers/paraphrase-multilingual-mpnet-base-v2\"\n",
    "    cross_encoder: str = \"cross-encoder/mmarco-mMiniLMv2-L12-H384-v1\"\n",
    "\n",
    "@dataclass\n",
    "class RetrieverCfg:\n",
    "    chunk_max_tok: int = 220\n",
    "    chunk_stride: int = 60\n",
    "    k_initial: int = 40\n",
    "    k_final: int = 8\n",
    "    mmr_lambda: float = 0.72\n",
    "    ce_batch_size: int = 32\n",
    "    max_ctx_tokens: int = 1400\n",
    "    title_max_chars: int = 320\n",
    "    excerpt_max_chars: int = 380\n",
    "\n",
    "@dataclass\n",
    "class GenCfg:\n",
    "    model_max_ctx: int = 8192\n",
    "    max_new_tokens: int = 512\n",
    "    temperature: float = 0.2\n",
    "    top_p: float = 0.9\n",
    "    repetition_penalty: float = 1.15\n",
    "    do_sample: bool = True\n",
    "\n",
    "@dataclass\n",
    "class Flags:\n",
    "    load_in_4bit: bool = True\n",
    "    use_bf16_if_available: bool = True\n",
    "\n",
    "@dataclass\n",
    "class Experiment:\n",
    "    selected_model: str = \"base_rag\"   # choices: \"base\", \"ft\", \"base_rag\", \"ft_rag\"\n",
    "    seed: int = 42"
   ]
  }
 ],
 "metadata": {
  "kernelspec": {
   "display_name": "Python 3 (ipykernel)",
   "language": "python",
   "name": "python3"
  },
  "language_info": {
   "codemirror_mode": {
    "name": "ipython",
    "version": 3
   },
   "file_extension": ".py",
   "mimetype": "text/x-python",
   "name": "python",
   "nbconvert_exporter": "python",
   "pygments_lexer": "ipython3",
   "version": "3.10.15"
  }
 },
 "nbformat": 4,
 "nbformat_minor": 5
}
